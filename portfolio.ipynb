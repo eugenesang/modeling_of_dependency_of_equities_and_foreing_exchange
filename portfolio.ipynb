{
 "cells": [
  {
   "cell_type": "code",
   "execution_count": 17,
   "metadata": {},
   "outputs": [],
   "source": [
    "import pandas as pd\n",
    "from scipy.stats import kendalltau\n",
    "from copulas.multivariate import GaussianMultivariate\n",
    "from copulas.visualization import scatter_2d\n",
    "import matplotlib.pyplot as plt\n",
    "from sklearn.impute import KNNImputer\n"
   ]
  },
  {
   "cell_type": "code",
   "execution_count": 27,
   "metadata": {},
   "outputs": [
    {
     "data": {
      "text/html": [
       "<div>\n",
       "<style scoped>\n",
       "    .dataframe tbody tr th:only-of-type {\n",
       "        vertical-align: middle;\n",
       "    }\n",
       "\n",
       "    .dataframe tbody tr th {\n",
       "        vertical-align: top;\n",
       "    }\n",
       "\n",
       "    .dataframe thead th {\n",
       "        text-align: right;\n",
       "    }\n",
       "</style>\n",
       "<table border=\"1\" class=\"dataframe\">\n",
       "  <thead>\n",
       "    <tr style=\"text-align: right;\">\n",
       "      <th></th>\n",
       "      <th>Date</th>\n",
       "      <th>Currency</th>\n",
       "      <th>Mean</th>\n",
       "      <th>Buy</th>\n",
       "      <th>Sell</th>\n",
       "    </tr>\n",
       "  </thead>\n",
       "  <tbody>\n",
       "    <tr>\n",
       "      <th>0</th>\n",
       "      <td>4/1/2024</td>\n",
       "      <td>KES / TSHS</td>\n",
       "      <td>15.9922</td>\n",
       "      <td>15.9207</td>\n",
       "      <td>16.0637</td>\n",
       "    </tr>\n",
       "    <tr>\n",
       "      <th>1</th>\n",
       "      <td>4/1/2024</td>\n",
       "      <td>SA RAND</td>\n",
       "      <td>8.3812</td>\n",
       "      <td>8.3591</td>\n",
       "      <td>8.4033</td>\n",
       "    </tr>\n",
       "    <tr>\n",
       "      <th>2</th>\n",
       "      <td>4/1/2024</td>\n",
       "      <td>EURO</td>\n",
       "      <td>172.2168</td>\n",
       "      <td>171.7535</td>\n",
       "      <td>172.6800</td>\n",
       "    </tr>\n",
       "    <tr>\n",
       "      <th>3</th>\n",
       "      <td>4/1/2024</td>\n",
       "      <td>CAN $</td>\n",
       "      <td>117.8343</td>\n",
       "      <td>117.5238</td>\n",
       "      <td>118.1448</td>\n",
       "    </tr>\n",
       "    <tr>\n",
       "      <th>4</th>\n",
       "      <td>4/1/2024</td>\n",
       "      <td>KES / RWF</td>\n",
       "      <td>8.0026</td>\n",
       "      <td>7.9237</td>\n",
       "      <td>8.0814</td>\n",
       "    </tr>\n",
       "  </tbody>\n",
       "</table>\n",
       "</div>"
      ],
      "text/plain": [
       "       Date    Currency      Mean       Buy      Sell\n",
       "0  4/1/2024  KES / TSHS   15.9922   15.9207   16.0637\n",
       "1  4/1/2024     SA RAND    8.3812    8.3591    8.4033\n",
       "2  4/1/2024        EURO  172.2168  171.7535  172.6800\n",
       "3  4/1/2024       CAN $  117.8343  117.5238  118.1448\n",
       "4  4/1/2024   KES / RWF    8.0026    7.9237    8.0814"
      ]
     },
     "execution_count": 27,
     "metadata": {},
     "output_type": "execute_result"
    }
   ],
   "source": [
    "stock_data = pd.read_csv(\"data/NSE_20_Share_Historical_Data.csv\")\n",
    "currency_data = pd.read_csv(\"data/cbk_forex_raph.csv\")\n",
    "\n",
    "stock_data.head()\n",
    "currency_data.head()"
   ]
  },
  {
   "cell_type": "code",
   "execution_count": 28,
   "metadata": {},
   "outputs": [],
   "source": [
    "# Convert date columns to datetime\n",
    "stock_data['Date'] = pd.to_datetime(stock_data['Date'], format='%m/%d/%Y')\n",
    "currency_data['Date'] = pd.to_datetime(currency_data['Date'], format='%d/%m/%Y')\n"
   ]
  },
  {
   "cell_type": "code",
   "execution_count": 30,
   "metadata": {},
   "outputs": [],
   "source": [
    "# Filter datasets to include only overlapping dates\n",
    "common_dates = pd.merge(stock_data['Date'], currency_data['Date'], on='Date')['Date']\n",
    "stock_data_filtered = stock_data[stock_data['Date'].isin(common_dates)]\n",
    "currency_data_filtered = currency_data[currency_data['Date'].isin(common_dates)]"
   ]
  },
  {
   "cell_type": "code",
   "execution_count": 31,
   "metadata": {},
   "outputs": [
    {
     "name": "stdout",
     "output_type": "stream",
     "text": [
      "Length of stock_data_filtered: 1461\n",
      "Length of currency_data_filtered: 30701\n"
     ]
    }
   ],
   "source": [
    "# Print lengths of filtered datasets\n",
    "print(\"Length of stock_data_filtered:\", len(stock_data_filtered))\n",
    "print(\"Length of currency_data_filtered:\", len(currency_data_filtered))"
   ]
  },
  {
   "cell_type": "code",
   "execution_count": 32,
   "metadata": {},
   "outputs": [
    {
     "name": "stdout",
     "output_type": "stream",
     "text": [
      "Unique dates in stock_data_filtered: <DatetimeArray>\n",
      "['2023-12-29 00:00:00', '2023-12-28 00:00:00', '2023-12-27 00:00:00',\n",
      " '2023-12-22 00:00:00', '2023-12-21 00:00:00', '2023-12-20 00:00:00',\n",
      " '2023-12-19 00:00:00', '2023-12-18 00:00:00', '2023-12-15 00:00:00',\n",
      " '2023-12-14 00:00:00',\n",
      " ...\n",
      " '2018-01-15 00:00:00', '2018-01-12 00:00:00', '2018-01-11 00:00:00',\n",
      " '2018-01-10 00:00:00', '2018-01-09 00:00:00', '2018-01-08 00:00:00',\n",
      " '2018-01-05 00:00:00', '2018-01-04 00:00:00', '2018-01-03 00:00:00',\n",
      " '2018-01-02 00:00:00']\n",
      "Length: 1461, dtype: datetime64[ns]\n",
      "Unique dates in currency_data_filtered: <DatetimeArray>\n",
      "['2023-12-29 00:00:00', '2023-12-28 00:00:00', '2023-12-27 00:00:00',\n",
      " '2023-12-22 00:00:00', '2023-12-21 00:00:00', '2023-12-20 00:00:00',\n",
      " '2023-12-19 00:00:00', '2023-12-18 00:00:00', '2023-12-15 00:00:00',\n",
      " '2023-12-14 00:00:00',\n",
      " ...\n",
      " '2018-01-15 00:00:00', '2018-01-12 00:00:00', '2018-01-11 00:00:00',\n",
      " '2018-01-10 00:00:00', '2018-01-09 00:00:00', '2018-01-08 00:00:00',\n",
      " '2018-01-05 00:00:00', '2018-01-04 00:00:00', '2018-01-03 00:00:00',\n",
      " '2018-01-02 00:00:00']\n",
      "Length: 1461, dtype: datetime64[ns]\n"
     ]
    }
   ],
   "source": [
    "# Print unique dates in both datasets\n",
    "print(\"Unique dates in stock_data_filtered:\", stock_data_filtered['Date'].unique())\n",
    "print(\"Unique dates in currency_data_filtered:\", currency_data_filtered['Date'].unique())"
   ]
  },
  {
   "cell_type": "code",
   "execution_count": 42,
   "metadata": {},
   "outputs": [
    {
     "data": {
      "text/html": [
       "<div>\n",
       "<style scoped>\n",
       "    .dataframe tbody tr th:only-of-type {\n",
       "        vertical-align: middle;\n",
       "    }\n",
       "\n",
       "    .dataframe tbody tr th {\n",
       "        vertical-align: top;\n",
       "    }\n",
       "\n",
       "    .dataframe thead th {\n",
       "        text-align: right;\n",
       "    }\n",
       "</style>\n",
       "<table border=\"1\" class=\"dataframe\">\n",
       "  <thead>\n",
       "    <tr style=\"text-align: right;\">\n",
       "      <th></th>\n",
       "      <th>Date</th>\n",
       "      <th>Price</th>\n",
       "      <th>Open</th>\n",
       "      <th>High</th>\n",
       "      <th>Low</th>\n",
       "      <th>Vol.</th>\n",
       "      <th>Change %</th>\n",
       "    </tr>\n",
       "  </thead>\n",
       "  <tbody>\n",
       "    <tr>\n",
       "      <th>0</th>\n",
       "      <td>2023-12-29</td>\n",
       "      <td>74773.85</td>\n",
       "      <td>74,480.29</td>\n",
       "      <td>74,838.76</td>\n",
       "      <td>74,366.97</td>\n",
       "      <td>368.60M</td>\n",
       "      <td>0.36%</td>\n",
       "    </tr>\n",
       "    <tr>\n",
       "      <th>1</th>\n",
       "      <td>2023-12-28</td>\n",
       "      <td>74502.58</td>\n",
       "      <td>73,768.64</td>\n",
       "      <td>74,502.58</td>\n",
       "      <td>73,734.59</td>\n",
       "      <td>384.58M</td>\n",
       "      <td>0.99%</td>\n",
       "    </tr>\n",
       "    <tr>\n",
       "      <th>2</th>\n",
       "      <td>2023-12-27</td>\n",
       "      <td>73768.64</td>\n",
       "      <td>74,034.23</td>\n",
       "      <td>74,249.15</td>\n",
       "      <td>73,762.07</td>\n",
       "      <td>432.91M</td>\n",
       "      <td>-0.34%</td>\n",
       "    </tr>\n",
       "    <tr>\n",
       "      <th>3</th>\n",
       "      <td>2023-12-22</td>\n",
       "      <td>74023.27</td>\n",
       "      <td>74,288.88</td>\n",
       "      <td>74,430.47</td>\n",
       "      <td>74,018.72</td>\n",
       "      <td>423.20M</td>\n",
       "      <td>-0.36%</td>\n",
       "    </tr>\n",
       "    <tr>\n",
       "      <th>4</th>\n",
       "      <td>2023-12-21</td>\n",
       "      <td>74289.02</td>\n",
       "      <td>73,397.71</td>\n",
       "      <td>74,292.76</td>\n",
       "      <td>73,397.71</td>\n",
       "      <td>760.93M</td>\n",
       "      <td>1.21%</td>\n",
       "    </tr>\n",
       "  </tbody>\n",
       "</table>\n",
       "</div>"
      ],
      "text/plain": [
       "        Date     Price       Open       High        Low     Vol. Change %\n",
       "0 2023-12-29  74773.85  74,480.29  74,838.76  74,366.97  368.60M    0.36%\n",
       "1 2023-12-28  74502.58  73,768.64  74,502.58  73,734.59  384.58M    0.99%\n",
       "2 2023-12-27  73768.64  74,034.23  74,249.15  73,762.07  432.91M   -0.34%\n",
       "3 2023-12-22  74023.27  74,288.88  74,430.47  74,018.72  423.20M   -0.36%\n",
       "4 2023-12-21  74289.02  73,397.71  74,292.76  73,397.71  760.93M    1.21%"
      ]
     },
     "execution_count": 42,
     "metadata": {},
     "output_type": "execute_result"
    }
   ],
   "source": [
    "stock_data_filtered.head()"
   ]
  },
  {
   "cell_type": "code",
   "execution_count": 43,
   "metadata": {},
   "outputs": [
    {
     "data": {
      "text/html": [
       "<div>\n",
       "<style scoped>\n",
       "    .dataframe tbody tr th:only-of-type {\n",
       "        vertical-align: middle;\n",
       "    }\n",
       "\n",
       "    .dataframe tbody tr th {\n",
       "        vertical-align: top;\n",
       "    }\n",
       "\n",
       "    .dataframe thead th {\n",
       "        text-align: right;\n",
       "    }\n",
       "</style>\n",
       "<table border=\"1\" class=\"dataframe\">\n",
       "  <thead>\n",
       "    <tr style=\"text-align: right;\">\n",
       "      <th></th>\n",
       "      <th>Date</th>\n",
       "      <th>Price</th>\n",
       "      <th>Open</th>\n",
       "      <th>High</th>\n",
       "      <th>Low</th>\n",
       "      <th>Vol.</th>\n",
       "      <th>Change %</th>\n",
       "    </tr>\n",
       "  </thead>\n",
       "  <tbody>\n",
       "    <tr>\n",
       "      <th>0</th>\n",
       "      <td>2023-12-29</td>\n",
       "      <td>74773.85</td>\n",
       "      <td>74480.29</td>\n",
       "      <td>74838.76</td>\n",
       "      <td>74366.97</td>\n",
       "      <td>368.60M</td>\n",
       "      <td>0.36%</td>\n",
       "    </tr>\n",
       "    <tr>\n",
       "      <th>1</th>\n",
       "      <td>2023-12-28</td>\n",
       "      <td>74502.58</td>\n",
       "      <td>73768.64</td>\n",
       "      <td>74502.58</td>\n",
       "      <td>73734.59</td>\n",
       "      <td>384.58M</td>\n",
       "      <td>0.99%</td>\n",
       "    </tr>\n",
       "    <tr>\n",
       "      <th>2</th>\n",
       "      <td>2023-12-27</td>\n",
       "      <td>73768.64</td>\n",
       "      <td>74034.23</td>\n",
       "      <td>74249.15</td>\n",
       "      <td>73762.07</td>\n",
       "      <td>432.91M</td>\n",
       "      <td>-0.34%</td>\n",
       "    </tr>\n",
       "    <tr>\n",
       "      <th>3</th>\n",
       "      <td>2023-12-22</td>\n",
       "      <td>74023.27</td>\n",
       "      <td>74288.88</td>\n",
       "      <td>74430.47</td>\n",
       "      <td>74018.72</td>\n",
       "      <td>423.20M</td>\n",
       "      <td>-0.36%</td>\n",
       "    </tr>\n",
       "    <tr>\n",
       "      <th>4</th>\n",
       "      <td>2023-12-21</td>\n",
       "      <td>74289.02</td>\n",
       "      <td>73397.71</td>\n",
       "      <td>74292.76</td>\n",
       "      <td>73397.71</td>\n",
       "      <td>760.93M</td>\n",
       "      <td>1.21%</td>\n",
       "    </tr>\n",
       "  </tbody>\n",
       "</table>\n",
       "</div>"
      ],
      "text/plain": [
       "        Date     Price      Open      High       Low     Vol. Change %\n",
       "0 2023-12-29  74773.85  74480.29  74838.76  74366.97  368.60M    0.36%\n",
       "1 2023-12-28  74502.58  73768.64  74502.58  73734.59  384.58M    0.99%\n",
       "2 2023-12-27  73768.64  74034.23  74249.15  73762.07  432.91M   -0.34%\n",
       "3 2023-12-22  74023.27  74288.88  74430.47  74018.72  423.20M   -0.36%\n",
       "4 2023-12-21  74289.02  73397.71  74292.76  73397.71  760.93M    1.21%"
      ]
     },
     "execution_count": 43,
     "metadata": {},
     "output_type": "execute_result"
    }
   ],
   "source": [
    "# Data Cleaning\n",
    "# Replace non-numeric values with NaN\n",
    "stock_data_filtered.replace({'Price': {'368.60M': pd.NA}}, inplace=True)\n",
    "\n",
    "numeric_columns = [ 'Open', 'High', 'Low']\n",
    "\n",
    "for col in numeric_columns:\n",
    "    stock_data_filtered[col] = stock_data_filtered[col].str.replace(\",\", \"\").astype(float)\n",
    "\n",
    "stock_data_filtered.head()"
   ]
  },
  {
   "cell_type": "code",
   "execution_count": 44,
   "metadata": {},
   "outputs": [],
   "source": [
    "# Preprocess 'Vol.' column\n",
    "def preprocess_volume(volume):\n",
    "    if isinstance(volume, str):\n",
    "        if volume.endswith('M'):\n",
    "            return float(volume[:-1]) * 1e6  # Multiply by 1 million\n",
    "        elif volume.endswith('B'):\n",
    "            return float(volume[:-1]) * 1e9  # Multiply by 1 billion\n",
    "        else:\n",
    "            return float(volume)\n",
    "    else:\n",
    "        return volume\n",
    "\n",
    "stock_data_filtered['Vol.'] = stock_data_filtered['Vol.'].apply(preprocess_volume)"
   ]
  },
  {
   "cell_type": "code",
   "execution_count": 45,
   "metadata": {},
   "outputs": [
    {
     "data": {
      "text/html": [
       "<div>\n",
       "<style scoped>\n",
       "    .dataframe tbody tr th:only-of-type {\n",
       "        vertical-align: middle;\n",
       "    }\n",
       "\n",
       "    .dataframe tbody tr th {\n",
       "        vertical-align: top;\n",
       "    }\n",
       "\n",
       "    .dataframe thead th {\n",
       "        text-align: right;\n",
       "    }\n",
       "</style>\n",
       "<table border=\"1\" class=\"dataframe\">\n",
       "  <thead>\n",
       "    <tr style=\"text-align: right;\">\n",
       "      <th></th>\n",
       "      <th>Date</th>\n",
       "      <th>Price</th>\n",
       "      <th>Open</th>\n",
       "      <th>High</th>\n",
       "      <th>Low</th>\n",
       "      <th>Vol.</th>\n",
       "      <th>Change %</th>\n",
       "    </tr>\n",
       "  </thead>\n",
       "  <tbody>\n",
       "    <tr>\n",
       "      <th>0</th>\n",
       "      <td>2023-12-29</td>\n",
       "      <td>74773.85</td>\n",
       "      <td>74480.29</td>\n",
       "      <td>74838.76</td>\n",
       "      <td>74366.97</td>\n",
       "      <td>368600000.0</td>\n",
       "      <td>0.36%</td>\n",
       "    </tr>\n",
       "    <tr>\n",
       "      <th>1</th>\n",
       "      <td>2023-12-28</td>\n",
       "      <td>74502.58</td>\n",
       "      <td>73768.64</td>\n",
       "      <td>74502.58</td>\n",
       "      <td>73734.59</td>\n",
       "      <td>384580000.0</td>\n",
       "      <td>0.99%</td>\n",
       "    </tr>\n",
       "    <tr>\n",
       "      <th>2</th>\n",
       "      <td>2023-12-27</td>\n",
       "      <td>73768.64</td>\n",
       "      <td>74034.23</td>\n",
       "      <td>74249.15</td>\n",
       "      <td>73762.07</td>\n",
       "      <td>432910000.0</td>\n",
       "      <td>-0.34%</td>\n",
       "    </tr>\n",
       "    <tr>\n",
       "      <th>3</th>\n",
       "      <td>2023-12-22</td>\n",
       "      <td>74023.27</td>\n",
       "      <td>74288.88</td>\n",
       "      <td>74430.47</td>\n",
       "      <td>74018.72</td>\n",
       "      <td>423200000.0</td>\n",
       "      <td>-0.36%</td>\n",
       "    </tr>\n",
       "    <tr>\n",
       "      <th>4</th>\n",
       "      <td>2023-12-21</td>\n",
       "      <td>74289.02</td>\n",
       "      <td>73397.71</td>\n",
       "      <td>74292.76</td>\n",
       "      <td>73397.71</td>\n",
       "      <td>760930000.0</td>\n",
       "      <td>1.21%</td>\n",
       "    </tr>\n",
       "  </tbody>\n",
       "</table>\n",
       "</div>"
      ],
      "text/plain": [
       "        Date     Price      Open      High       Low         Vol. Change %\n",
       "0 2023-12-29  74773.85  74480.29  74838.76  74366.97  368600000.0    0.36%\n",
       "1 2023-12-28  74502.58  73768.64  74502.58  73734.59  384580000.0    0.99%\n",
       "2 2023-12-27  73768.64  74034.23  74249.15  73762.07  432910000.0   -0.34%\n",
       "3 2023-12-22  74023.27  74288.88  74430.47  74018.72  423200000.0   -0.36%\n",
       "4 2023-12-21  74289.02  73397.71  74292.76  73397.71  760930000.0    1.21%"
      ]
     },
     "execution_count": 45,
     "metadata": {},
     "output_type": "execute_result"
    }
   ],
   "source": [
    "stock_data_filtered.head()"
   ]
  },
  {
   "cell_type": "code",
   "execution_count": 38,
   "metadata": {},
   "outputs": [
    {
     "data": {
      "text/html": [
       "<div>\n",
       "<style scoped>\n",
       "    .dataframe tbody tr th:only-of-type {\n",
       "        vertical-align: middle;\n",
       "    }\n",
       "\n",
       "    .dataframe tbody tr th {\n",
       "        vertical-align: top;\n",
       "    }\n",
       "\n",
       "    .dataframe thead th {\n",
       "        text-align: right;\n",
       "    }\n",
       "</style>\n",
       "<table border=\"1\" class=\"dataframe\">\n",
       "  <thead>\n",
       "    <tr style=\"text-align: right;\">\n",
       "      <th></th>\n",
       "      <th>Date</th>\n",
       "      <th>Price</th>\n",
       "      <th>Open</th>\n",
       "      <th>High</th>\n",
       "      <th>Low</th>\n",
       "      <th>Vol.</th>\n",
       "      <th>Change %</th>\n",
       "    </tr>\n",
       "  </thead>\n",
       "  <tbody>\n",
       "    <tr>\n",
       "      <th>0</th>\n",
       "      <td>2023-12-29</td>\n",
       "      <td>74773.85</td>\n",
       "      <td>74,480.29</td>\n",
       "      <td>74,838.76</td>\n",
       "      <td>74,366.97</td>\n",
       "      <td>368.60M</td>\n",
       "      <td>0.36%</td>\n",
       "    </tr>\n",
       "    <tr>\n",
       "      <th>1</th>\n",
       "      <td>2023-12-28</td>\n",
       "      <td>74502.58</td>\n",
       "      <td>73,768.64</td>\n",
       "      <td>74,502.58</td>\n",
       "      <td>73,734.59</td>\n",
       "      <td>384.58M</td>\n",
       "      <td>0.99%</td>\n",
       "    </tr>\n",
       "    <tr>\n",
       "      <th>2</th>\n",
       "      <td>2023-12-27</td>\n",
       "      <td>73768.64</td>\n",
       "      <td>74,034.23</td>\n",
       "      <td>74,249.15</td>\n",
       "      <td>73,762.07</td>\n",
       "      <td>432.91M</td>\n",
       "      <td>-0.34%</td>\n",
       "    </tr>\n",
       "    <tr>\n",
       "      <th>3</th>\n",
       "      <td>2023-12-22</td>\n",
       "      <td>74023.27</td>\n",
       "      <td>74,288.88</td>\n",
       "      <td>74,430.47</td>\n",
       "      <td>74,018.72</td>\n",
       "      <td>423.20M</td>\n",
       "      <td>-0.36%</td>\n",
       "    </tr>\n",
       "    <tr>\n",
       "      <th>4</th>\n",
       "      <td>2023-12-21</td>\n",
       "      <td>74289.02</td>\n",
       "      <td>73,397.71</td>\n",
       "      <td>74,292.76</td>\n",
       "      <td>73,397.71</td>\n",
       "      <td>760.93M</td>\n",
       "      <td>1.21%</td>\n",
       "    </tr>\n",
       "  </tbody>\n",
       "</table>\n",
       "</div>"
      ],
      "text/plain": [
       "        Date     Price       Open       High        Low     Vol. Change %\n",
       "0 2023-12-29  74773.85  74,480.29  74,838.76  74,366.97  368.60M    0.36%\n",
       "1 2023-12-28  74502.58  73,768.64  74,502.58  73,734.59  384.58M    0.99%\n",
       "2 2023-12-27  73768.64  74,034.23  74,249.15  73,762.07  432.91M   -0.34%\n",
       "3 2023-12-22  74023.27  74,288.88  74,430.47  74,018.72  423.20M   -0.36%\n",
       "4 2023-12-21  74289.02  73,397.71  74,292.76  73,397.71  760.93M    1.21%"
      ]
     },
     "execution_count": 38,
     "metadata": {},
     "output_type": "execute_result"
    }
   ],
   "source": [
    "# Convert 'Price' column to numeric, converting non-numeric values to NaN\n",
    "stock_data_filtered['Price'] = pd.to_numeric(stock_data_filtered['Price'], errors='coerce')\n",
    "\n",
    "stock_data_filtered.head()"
   ]
  },
  {
   "cell_type": "code",
   "execution_count": 46,
   "metadata": {},
   "outputs": [],
   "source": [
    "stock_data_filtered['Change %'] = stock_data_filtered['Change %'].str.replace(\"%\", '').astype(float)"
   ]
  },
  {
   "cell_type": "code",
   "execution_count": 47,
   "metadata": {},
   "outputs": [
    {
     "data": {
      "text/html": [
       "<div>\n",
       "<style scoped>\n",
       "    .dataframe tbody tr th:only-of-type {\n",
       "        vertical-align: middle;\n",
       "    }\n",
       "\n",
       "    .dataframe tbody tr th {\n",
       "        vertical-align: top;\n",
       "    }\n",
       "\n",
       "    .dataframe thead th {\n",
       "        text-align: right;\n",
       "    }\n",
       "</style>\n",
       "<table border=\"1\" class=\"dataframe\">\n",
       "  <thead>\n",
       "    <tr style=\"text-align: right;\">\n",
       "      <th></th>\n",
       "      <th>Date</th>\n",
       "      <th>Price</th>\n",
       "      <th>Open</th>\n",
       "      <th>High</th>\n",
       "      <th>Low</th>\n",
       "      <th>Vol.</th>\n",
       "      <th>Change %</th>\n",
       "    </tr>\n",
       "  </thead>\n",
       "  <tbody>\n",
       "    <tr>\n",
       "      <th>0</th>\n",
       "      <td>2023-12-29</td>\n",
       "      <td>74773.85</td>\n",
       "      <td>74480.29</td>\n",
       "      <td>74838.76</td>\n",
       "      <td>74366.97</td>\n",
       "      <td>368600000.0</td>\n",
       "      <td>0.36</td>\n",
       "    </tr>\n",
       "    <tr>\n",
       "      <th>1</th>\n",
       "      <td>2023-12-28</td>\n",
       "      <td>74502.58</td>\n",
       "      <td>73768.64</td>\n",
       "      <td>74502.58</td>\n",
       "      <td>73734.59</td>\n",
       "      <td>384580000.0</td>\n",
       "      <td>0.99</td>\n",
       "    </tr>\n",
       "    <tr>\n",
       "      <th>2</th>\n",
       "      <td>2023-12-27</td>\n",
       "      <td>73768.64</td>\n",
       "      <td>74034.23</td>\n",
       "      <td>74249.15</td>\n",
       "      <td>73762.07</td>\n",
       "      <td>432910000.0</td>\n",
       "      <td>-0.34</td>\n",
       "    </tr>\n",
       "    <tr>\n",
       "      <th>3</th>\n",
       "      <td>2023-12-22</td>\n",
       "      <td>74023.27</td>\n",
       "      <td>74288.88</td>\n",
       "      <td>74430.47</td>\n",
       "      <td>74018.72</td>\n",
       "      <td>423200000.0</td>\n",
       "      <td>-0.36</td>\n",
       "    </tr>\n",
       "    <tr>\n",
       "      <th>4</th>\n",
       "      <td>2023-12-21</td>\n",
       "      <td>74289.02</td>\n",
       "      <td>73397.71</td>\n",
       "      <td>74292.76</td>\n",
       "      <td>73397.71</td>\n",
       "      <td>760930000.0</td>\n",
       "      <td>1.21</td>\n",
       "    </tr>\n",
       "  </tbody>\n",
       "</table>\n",
       "</div>"
      ],
      "text/plain": [
       "        Date     Price      Open      High       Low         Vol.  Change %\n",
       "0 2023-12-29  74773.85  74480.29  74838.76  74366.97  368600000.0      0.36\n",
       "1 2023-12-28  74502.58  73768.64  74502.58  73734.59  384580000.0      0.99\n",
       "2 2023-12-27  73768.64  74034.23  74249.15  73762.07  432910000.0     -0.34\n",
       "3 2023-12-22  74023.27  74288.88  74430.47  74018.72  423200000.0     -0.36\n",
       "4 2023-12-21  74289.02  73397.71  74292.76  73397.71  760930000.0      1.21"
      ]
     },
     "execution_count": 47,
     "metadata": {},
     "output_type": "execute_result"
    }
   ],
   "source": [
    "stock_data_filtered.head()"
   ]
  },
  {
   "cell_type": "code",
   "execution_count": 48,
   "metadata": {},
   "outputs": [
    {
     "data": {
      "text/html": [
       "<div>\n",
       "<style scoped>\n",
       "    .dataframe tbody tr th:only-of-type {\n",
       "        vertical-align: middle;\n",
       "    }\n",
       "\n",
       "    .dataframe tbody tr th {\n",
       "        vertical-align: top;\n",
       "    }\n",
       "\n",
       "    .dataframe thead th {\n",
       "        text-align: right;\n",
       "    }\n",
       "</style>\n",
       "<table border=\"1\" class=\"dataframe\">\n",
       "  <thead>\n",
       "    <tr style=\"text-align: right;\">\n",
       "      <th></th>\n",
       "      <th>Date</th>\n",
       "      <th>Price</th>\n",
       "      <th>Open</th>\n",
       "      <th>High</th>\n",
       "      <th>Low</th>\n",
       "      <th>Vol.</th>\n",
       "      <th>Change %</th>\n",
       "    </tr>\n",
       "  </thead>\n",
       "  <tbody>\n",
       "    <tr>\n",
       "      <th>0</th>\n",
       "      <td>2023-12-29</td>\n",
       "      <td>74773.85</td>\n",
       "      <td>74480.29</td>\n",
       "      <td>74838.76</td>\n",
       "      <td>74366.97</td>\n",
       "      <td>368600000.0</td>\n",
       "      <td>0.36</td>\n",
       "    </tr>\n",
       "    <tr>\n",
       "      <th>1</th>\n",
       "      <td>2023-12-28</td>\n",
       "      <td>74502.58</td>\n",
       "      <td>73768.64</td>\n",
       "      <td>74502.58</td>\n",
       "      <td>73734.59</td>\n",
       "      <td>384580000.0</td>\n",
       "      <td>0.99</td>\n",
       "    </tr>\n",
       "    <tr>\n",
       "      <th>2</th>\n",
       "      <td>2023-12-27</td>\n",
       "      <td>73768.64</td>\n",
       "      <td>74034.23</td>\n",
       "      <td>74249.15</td>\n",
       "      <td>73762.07</td>\n",
       "      <td>432910000.0</td>\n",
       "      <td>-0.34</td>\n",
       "    </tr>\n",
       "    <tr>\n",
       "      <th>3</th>\n",
       "      <td>2023-12-22</td>\n",
       "      <td>74023.27</td>\n",
       "      <td>74288.88</td>\n",
       "      <td>74430.47</td>\n",
       "      <td>74018.72</td>\n",
       "      <td>423200000.0</td>\n",
       "      <td>-0.36</td>\n",
       "    </tr>\n",
       "    <tr>\n",
       "      <th>4</th>\n",
       "      <td>2023-12-21</td>\n",
       "      <td>74289.02</td>\n",
       "      <td>73397.71</td>\n",
       "      <td>74292.76</td>\n",
       "      <td>73397.71</td>\n",
       "      <td>760930000.0</td>\n",
       "      <td>1.21</td>\n",
       "    </tr>\n",
       "  </tbody>\n",
       "</table>\n",
       "</div>"
      ],
      "text/plain": [
       "        Date     Price      Open      High       Low         Vol.  Change %\n",
       "0 2023-12-29  74773.85  74480.29  74838.76  74366.97  368600000.0      0.36\n",
       "1 2023-12-28  74502.58  73768.64  74502.58  73734.59  384580000.0      0.99\n",
       "2 2023-12-27  73768.64  74034.23  74249.15  73762.07  432910000.0     -0.34\n",
       "3 2023-12-22  74023.27  74288.88  74430.47  74018.72  423200000.0     -0.36\n",
       "4 2023-12-21  74289.02  73397.71  74292.76  73397.71  760930000.0      1.21"
      ]
     },
     "execution_count": 48,
     "metadata": {},
     "output_type": "execute_result"
    }
   ],
   "source": [
    "# Drop rows with NaN values\n",
    "stock_data_filtered.dropna(subset=['Price'], inplace=True)\n",
    "\n",
    "stock_data_filtered.head()"
   ]
  },
  {
   "cell_type": "code",
   "execution_count": 50,
   "metadata": {},
   "outputs": [
    {
     "data": {
      "text/html": [
       "<div>\n",
       "<style scoped>\n",
       "    .dataframe tbody tr th:only-of-type {\n",
       "        vertical-align: middle;\n",
       "    }\n",
       "\n",
       "    .dataframe tbody tr th {\n",
       "        vertical-align: top;\n",
       "    }\n",
       "\n",
       "    .dataframe thead th {\n",
       "        text-align: right;\n",
       "    }\n",
       "</style>\n",
       "<table border=\"1\" class=\"dataframe\">\n",
       "  <thead>\n",
       "    <tr style=\"text-align: right;\">\n",
       "      <th></th>\n",
       "      <th>0</th>\n",
       "      <th>1</th>\n",
       "      <th>2</th>\n",
       "      <th>3</th>\n",
       "      <th>4</th>\n",
       "      <th>5</th>\n",
       "    </tr>\n",
       "  </thead>\n",
       "  <tbody>\n",
       "    <tr>\n",
       "      <th>0</th>\n",
       "      <td>74773.85</td>\n",
       "      <td>74480.29</td>\n",
       "      <td>74838.76</td>\n",
       "      <td>74366.97</td>\n",
       "      <td>368600000.0</td>\n",
       "      <td>0.36</td>\n",
       "    </tr>\n",
       "    <tr>\n",
       "      <th>1</th>\n",
       "      <td>74502.58</td>\n",
       "      <td>73768.64</td>\n",
       "      <td>74502.58</td>\n",
       "      <td>73734.59</td>\n",
       "      <td>384580000.0</td>\n",
       "      <td>0.99</td>\n",
       "    </tr>\n",
       "    <tr>\n",
       "      <th>2</th>\n",
       "      <td>73768.64</td>\n",
       "      <td>74034.23</td>\n",
       "      <td>74249.15</td>\n",
       "      <td>73762.07</td>\n",
       "      <td>432910000.0</td>\n",
       "      <td>-0.34</td>\n",
       "    </tr>\n",
       "    <tr>\n",
       "      <th>3</th>\n",
       "      <td>74023.27</td>\n",
       "      <td>74288.88</td>\n",
       "      <td>74430.47</td>\n",
       "      <td>74018.72</td>\n",
       "      <td>423200000.0</td>\n",
       "      <td>-0.36</td>\n",
       "    </tr>\n",
       "    <tr>\n",
       "      <th>4</th>\n",
       "      <td>74289.02</td>\n",
       "      <td>73397.71</td>\n",
       "      <td>74292.76</td>\n",
       "      <td>73397.71</td>\n",
       "      <td>760930000.0</td>\n",
       "      <td>1.21</td>\n",
       "    </tr>\n",
       "  </tbody>\n",
       "</table>\n",
       "</div>"
      ],
      "text/plain": [
       "          0         1         2         3            4     5\n",
       "0  74773.85  74480.29  74838.76  74366.97  368600000.0  0.36\n",
       "1  74502.58  73768.64  74502.58  73734.59  384580000.0  0.99\n",
       "2  73768.64  74034.23  74249.15  73762.07  432910000.0 -0.34\n",
       "3  74023.27  74288.88  74430.47  74018.72  423200000.0 -0.36\n",
       "4  74289.02  73397.71  74292.76  73397.71  760930000.0  1.21"
      ]
     },
     "execution_count": 50,
     "metadata": {},
     "output_type": "execute_result"
    }
   ],
   "source": [
    "# Impute missing values (excluding datetime column)\n",
    "imputer = KNNImputer()\n",
    "stock_data_filtered_imputed = pd.DataFrame(imputer.fit_transform(stock_data_filtered.drop(columns=['Date'])))\n",
    "\n",
    "stock_data_filtered_imputed.head()"
   ]
  },
  {
   "cell_type": "code",
   "execution_count": 61,
   "metadata": {},
   "outputs": [
    {
     "data": {
      "image/png": "[encoded data removed]",
      "text/plain": [
       "<Figure size 640x480 with 1 Axes>"
      ]
     },
     "metadata": {},
     "output_type": "display_data"
    }
   ],
   "source": [
    "plt.scatter(stock_data_filtered_imputed[0], stock_data_filtered_imputed[4])\n",
    "plt.xlabel('Price')\n",
    "plt.ylabel('Change %')\n",
    "plt.title(\"Comparison of Price & Change %\")\n",
    "plt.show()"
   ]
  },
  {
   "cell_type": "code",
   "execution_count": 62,
   "metadata": {},
   "outputs": [
    {
     "data": {
      "image/png": "[encoded data removed]",
      "text/plain": [
       "<Figure size 640x480 with 1 Axes>"
      ]
     },
     "metadata": {},
     "output_type": "display_data"
    }
   ],
   "source": [
    "plt.scatter(stock_data_filtered_imputed[0], stock_data_filtered_imputed[5])\n",
    "plt.xlabel('Price')\n",
    "plt.ylabel('Change %')\n",
    "plt.title(\"Comparison of Price & Change %\")\n",
    "plt.show()"
   ]
  },
  {
   "cell_type": "code",
   "execution_count": 63,
   "metadata": {},
   "outputs": [
    {
     "data": {
      "image/png": "[encoded data removed]",
      "text/plain": [
       "<Figure size 640x480 with 1 Axes>"
      ]
     },
     "metadata": {},
     "output_type": "display_data"
    }
   ],
   "source": [
    "plt.scatter(stock_data_filtered_imputed[0], stock_data_filtered_imputed[3])\n",
    "plt.xlabel('Price')\n",
    "plt.ylabel('Change %')\n",
    "plt.title(\"Comparison of Price & Change %\")\n",
    "plt.show()"
   ]
  },
  {
   "cell_type": "code",
   "execution_count": 65,
   "metadata": {},
   "outputs": [
    {
     "data": {
      "image/png": "[encoded data removed]",
      "text/plain": [
       "<Figure size 640x480 with 1 Axes>"
      ]
     },
     "metadata": {},
     "output_type": "display_data"
    }
   ],
   "source": [
    "plt.hist(stock_data_filtered_imputed[4])\n",
    "plt.xlabel('Price')\n",
    "plt.ylabel('Change %')\n",
    "plt.title(\"Comparison of Price & Change %\")\n",
    "plt.show()"
   ]
  },
  {
   "cell_type": "code",
   "execution_count": 52,
   "metadata": {},
   "outputs": [
    {
     "name": "stderr",
     "output_type": "stream",
     "text": [
      "C:\\tools\\Manim\\Lib\\site-packages\\scipy\\stats\\_continuous_distns.py:5999: RuntimeWarning: divide by zero encountered in divide\n",
      "  return c**2 / (c**2 - n**2)\n",
      "C:\\tools\\Manim\\Lib\\site-packages\\scipy\\stats\\_continuous_distns.py:5999: RuntimeWarning: divide by zero encountered in divide\n",
      "  return c**2 / (c**2 - n**2)\n"
     ]
    }
   ],
   "source": [
    "# Copula Model Fitting\n",
    "copula = GaussianMultivariate()\n",
    "copula.fit(stock_data_filtered_imputed[[0, 1]])\n",
    "\n",
    "# Dependence Measure (alternative)\n",
    "correlation = stock_data_filtered_imputed[0].corr(stock_data_filtered_imputed[1])\n",
    "kendall_tau, _ = kendalltau(stock_data_filtered_imputed[0], stock_data_filtered_imputed[1])"
   ]
  },
  {
   "cell_type": "code",
   "execution_count": 53,
   "metadata": {},
   "outputs": [
    {
     "data": {
      "text/plain": [
       "0.9995982508166867"
      ]
     },
     "execution_count": 53,
     "metadata": {},
     "output_type": "execute_result"
    }
   ],
   "source": [
    "correlation"
   ]
  },
  {
   "cell_type": "code",
   "execution_count": 54,
   "metadata": {},
   "outputs": [
    {
     "data": {
      "text/plain": [
       "0.9796718790655794"
      ]
     },
     "execution_count": 54,
     "metadata": {},
     "output_type": "execute_result"
    }
   ],
   "source": [
    "kendall_tau"
   ]
  }
 ],
 "metadata": {
  "kernelspec": {
   "display_name": "Python 3",
   "language": "python",
   "name": "python3"
  },
  "language_info": {
   "codemirror_mode": {
    "name": "ipython",
    "version": 3
   },
   "file_extension": ".py",
   "mimetype": "text/x-python",
   "name": "python",
   "nbconvert_exporter": "python",
   "pygments_lexer": "ipython3",
   "version": "3.11.5"
  }
 },
 "nbformat": 4,
 "nbformat_minor": 2
}
